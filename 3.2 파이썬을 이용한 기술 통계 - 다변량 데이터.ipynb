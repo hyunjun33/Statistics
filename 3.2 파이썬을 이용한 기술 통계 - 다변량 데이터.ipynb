{
 "cells": [
  {
   "cell_type": "code",
   "execution_count": 1,
   "id": "77f38b5b",
   "metadata": {},
   "outputs": [],
   "source": [
    "import numpy as np\n",
    "import scipy as sp\n",
    "import pandas as pd"
   ]
  },
  {
   "cell_type": "markdown",
   "id": "791ec4e4",
   "metadata": {},
   "source": [
    "여러개의 변수를 조합한 데이터를 다변량 데이터라고 부릅니다. 다변량 데이터의 핵심은 '깔끔한 데이터' 형식으로 정리하는 것이라고 할 수 있습니다.\n",
    "\n",
    "### 깔끔한 데이터란?\n",
    "- 2014년 해들리 위컴이 통계 소프트웨어 저널에서 처음 제시한 용어입니다.\n",
    "- 개별 값이 하나의 셀을 이룬다.\n",
    "- 개별 변수가 하나의 열을 이룬다.\n",
    "- 개별 관측이 하나의 행을 이룬다.\n",
    "- 개별 관측 유닛 유형이 하나의 표를 이룬다.\n",
    "\n",
    "깔끔한 데이터는 '의미와 구조가 대응한다'는 특징이 있습니다."
   ]
  },
  {
   "cell_type": "code",
   "execution_count": 2,
   "id": "5bf6de92",
   "metadata": {},
   "outputs": [
    {
     "data": {
      "text/plain": [
       "'%.3f'"
      ]
     },
     "execution_count": 2,
     "metadata": {},
     "output_type": "execute_result"
    }
   ],
   "source": [
    "%precision 3"
   ]
  },
  {
   "cell_type": "markdown",
   "id": "db6445d6",
   "metadata": {},
   "source": [
    "### 다변량 데이터의 그룹별 통계량 계산하기"
   ]
  },
  {
   "cell_type": "code",
   "execution_count": 7,
   "id": "4bf450be",
   "metadata": {},
   "outputs": [
    {
     "name": "stdout",
     "output_type": "stream",
     "text": [
      "  species  length\n",
      "0       A       2\n",
      "1       A       3\n",
      "2       A       4\n",
      "3       B       6\n",
      "4       B       8\n",
      "5       B      10\n"
     ]
    }
   ],
   "source": [
    "fish_multi = pd.read_csv(\"./sample/3-2-1-fish_multi.csv\")\n",
    "print(fish_multi)"
   ]
  },
  {
   "cell_type": "code",
   "execution_count": 10,
   "id": "c30ee094",
   "metadata": {},
   "outputs": [
    {
     "name": "stdout",
     "output_type": "stream",
     "text": [
      "         length\n",
      "species        \n",
      "A           3.0\n",
      "B           8.0\n",
      "         length\n",
      "species        \n",
      "A           1.0\n",
      "B           2.0\n"
     ]
    }
   ],
   "source": [
    "# 종류별 평균값과 표준편차\n",
    "grouped = fish_multi.groupby(\"species\")\n",
    "\n",
    "print(grouped.mean())\n",
    "print(grouped.std(ddof=1))"
   ]
  },
  {
   "cell_type": "markdown",
   "id": "24aaa927",
   "metadata": {},
   "source": [
    "### 교차분석표 구현"
   ]
  },
  {
   "cell_type": "code",
   "execution_count": 13,
   "id": "8d9c543d",
   "metadata": {},
   "outputs": [
    {
     "data": {
      "text/html": [
       "<div>\n",
       "<style scoped>\n",
       "    .dataframe tbody tr th:only-of-type {\n",
       "        vertical-align: middle;\n",
       "    }\n",
       "\n",
       "    .dataframe tbody tr th {\n",
       "        vertical-align: top;\n",
       "    }\n",
       "\n",
       "    .dataframe thead th {\n",
       "        text-align: right;\n",
       "    }\n",
       "</style>\n",
       "<table border=\"1\" class=\"dataframe\">\n",
       "  <thead>\n",
       "    <tr style=\"text-align: right;\">\n",
       "      <th></th>\n",
       "      <th>store</th>\n",
       "      <th>color</th>\n",
       "      <th>sales</th>\n",
       "    </tr>\n",
       "  </thead>\n",
       "  <tbody>\n",
       "    <tr>\n",
       "      <th>0</th>\n",
       "      <td>tokyo</td>\n",
       "      <td>blue</td>\n",
       "      <td>10</td>\n",
       "    </tr>\n",
       "    <tr>\n",
       "      <th>1</th>\n",
       "      <td>tokyo</td>\n",
       "      <td>red</td>\n",
       "      <td>15</td>\n",
       "    </tr>\n",
       "    <tr>\n",
       "      <th>2</th>\n",
       "      <td>osaka</td>\n",
       "      <td>blue</td>\n",
       "      <td>13</td>\n",
       "    </tr>\n",
       "    <tr>\n",
       "      <th>3</th>\n",
       "      <td>osaka</td>\n",
       "      <td>red</td>\n",
       "      <td>9</td>\n",
       "    </tr>\n",
       "  </tbody>\n",
       "</table>\n",
       "</div>"
      ],
      "text/plain": [
       "   store color  sales\n",
       "0  tokyo  blue     10\n",
       "1  tokyo   red     15\n",
       "2  osaka  blue     13\n",
       "3  osaka   red      9"
      ]
     },
     "execution_count": 13,
     "metadata": {},
     "output_type": "execute_result"
    }
   ],
   "source": [
    "shoes = pd.read_csv(\"./sample/3-2-2-shoes.csv\")\n",
    "shoes"
   ]
  },
  {
   "cell_type": "code",
   "execution_count": 16,
   "id": "ad8d197d",
   "metadata": {},
   "outputs": [
    {
     "data": {
      "text/html": [
       "<div>\n",
       "<style scoped>\n",
       "    .dataframe tbody tr th:only-of-type {\n",
       "        vertical-align: middle;\n",
       "    }\n",
       "\n",
       "    .dataframe tbody tr th {\n",
       "        vertical-align: top;\n",
       "    }\n",
       "\n",
       "    .dataframe thead th {\n",
       "        text-align: right;\n",
       "    }\n",
       "</style>\n",
       "<table border=\"1\" class=\"dataframe\">\n",
       "  <thead>\n",
       "    <tr style=\"text-align: right;\">\n",
       "      <th>color</th>\n",
       "      <th>blue</th>\n",
       "      <th>red</th>\n",
       "    </tr>\n",
       "    <tr>\n",
       "      <th>store</th>\n",
       "      <th></th>\n",
       "      <th></th>\n",
       "    </tr>\n",
       "  </thead>\n",
       "  <tbody>\n",
       "    <tr>\n",
       "      <th>osaka</th>\n",
       "      <td>13</td>\n",
       "      <td>9</td>\n",
       "    </tr>\n",
       "    <tr>\n",
       "      <th>tokyo</th>\n",
       "      <td>10</td>\n",
       "      <td>15</td>\n",
       "    </tr>\n",
       "  </tbody>\n",
       "</table>\n",
       "</div>"
      ],
      "text/plain": [
       "color  blue  red\n",
       "store           \n",
       "osaka    13    9\n",
       "tokyo    10   15"
      ]
     },
     "execution_count": 16,
     "metadata": {},
     "output_type": "execute_result"
    }
   ],
   "source": [
    "cross = pd.pivot_table(data=shoes, values=\"sales\",\n",
    "                       aggfunc=\"sum\", index=\"store\", columns=\"color\")\n",
    "\n",
    "cross"
   ]
  },
  {
   "cell_type": "markdown",
   "id": "c0f121ee",
   "metadata": {},
   "source": [
    "### 공분산\n",
    "영어로 Covariance라고 하는 공분산은 2개의 연속병 변수의 관계성을 확인하는 통계랑입니다.\n",
    "\n",
    "공분산은 다음 조건을 만족해야 합니다.\n",
    "- 공분산이 0보다 클 때 : 변수 한 쪽이 큰 값을 갖게 되면 다른 한 쪽도 커집니다.\n",
    "- 공분산이 0보다 작을 때 : 변수 한 쪽이 큰 값을 갖게 되면 다른 한 쪽은 작아집니다.\n",
    "- 공분산이 0일 때 : 변수 사이에 관계성이 없습니다.\n",
    "\n",
    "예를 들면, 공분산은 다음과 같이 해석할 수 있습니다.\n",
    "- 공분산이 0 보다 큰 값일 경우 : \"변수 x가 평균보다 큰 값일 때, 다른 변수 y도 평균보다 큰 값을 갖는다고 기대할 수 있다.\"\n",
    "- 공분산이 0 보다 작을 경우 : \"변수 x가 평균보다 큰 값일 때, 다른 변수 y는 평균보다 작은 값을 갖는다고 기대 할 수 있다.\""
   ]
  },
  {
   "cell_type": "code",
   "execution_count": 18,
   "id": "ee576845",
   "metadata": {},
   "outputs": [
    {
     "data": {
      "text/html": [
       "<div>\n",
       "<style scoped>\n",
       "    .dataframe tbody tr th:only-of-type {\n",
       "        vertical-align: middle;\n",
       "    }\n",
       "\n",
       "    .dataframe tbody tr th {\n",
       "        vertical-align: top;\n",
       "    }\n",
       "\n",
       "    .dataframe thead th {\n",
       "        text-align: right;\n",
       "    }\n",
       "</style>\n",
       "<table border=\"1\" class=\"dataframe\">\n",
       "  <thead>\n",
       "    <tr style=\"text-align: right;\">\n",
       "      <th></th>\n",
       "      <th>x</th>\n",
       "      <th>y</th>\n",
       "    </tr>\n",
       "  </thead>\n",
       "  <tbody>\n",
       "    <tr>\n",
       "      <th>0</th>\n",
       "      <td>18.5</td>\n",
       "      <td>34</td>\n",
       "    </tr>\n",
       "    <tr>\n",
       "      <th>1</th>\n",
       "      <td>18.7</td>\n",
       "      <td>39</td>\n",
       "    </tr>\n",
       "    <tr>\n",
       "      <th>2</th>\n",
       "      <td>19.1</td>\n",
       "      <td>41</td>\n",
       "    </tr>\n",
       "    <tr>\n",
       "      <th>3</th>\n",
       "      <td>19.7</td>\n",
       "      <td>38</td>\n",
       "    </tr>\n",
       "    <tr>\n",
       "      <th>4</th>\n",
       "      <td>21.5</td>\n",
       "      <td>45</td>\n",
       "    </tr>\n",
       "    <tr>\n",
       "      <th>5</th>\n",
       "      <td>21.7</td>\n",
       "      <td>41</td>\n",
       "    </tr>\n",
       "    <tr>\n",
       "      <th>6</th>\n",
       "      <td>21.8</td>\n",
       "      <td>52</td>\n",
       "    </tr>\n",
       "    <tr>\n",
       "      <th>7</th>\n",
       "      <td>22.0</td>\n",
       "      <td>44</td>\n",
       "    </tr>\n",
       "    <tr>\n",
       "      <th>8</th>\n",
       "      <td>23.4</td>\n",
       "      <td>44</td>\n",
       "    </tr>\n",
       "    <tr>\n",
       "      <th>9</th>\n",
       "      <td>23.8</td>\n",
       "      <td>49</td>\n",
       "    </tr>\n",
       "  </tbody>\n",
       "</table>\n",
       "</div>"
      ],
      "text/plain": [
       "      x   y\n",
       "0  18.5  34\n",
       "1  18.7  39\n",
       "2  19.1  41\n",
       "3  19.7  38\n",
       "4  21.5  45\n",
       "5  21.7  41\n",
       "6  21.8  52\n",
       "7  22.0  44\n",
       "8  23.4  44\n",
       "9  23.8  49"
      ]
     },
     "execution_count": 18,
     "metadata": {},
     "output_type": "execute_result"
    }
   ],
   "source": [
    "cov_data = pd.read_csv(\"./sample/3-2-3-cov.csv\")\n",
    "cov_data"
   ]
  },
  {
   "cell_type": "code",
   "execution_count": 20,
   "id": "e99ed9c6",
   "metadata": {},
   "outputs": [],
   "source": [
    "# 데이터를 분리\n",
    "x = cov_data[\"x\"]\n",
    "y = cov_data[\"y\"]\n",
    "\n",
    "# 표본의 크기\n",
    "N = len(cov_data)\n",
    "\n",
    "# 평균값 계산\n",
    "mu_x = np.mean(x)\n",
    "mu_y = np.mean(y)"
   ]
  },
  {
   "cell_type": "code",
   "execution_count": 25,
   "id": "04cdb769",
   "metadata": {},
   "outputs": [
    {
     "data": {
      "text/plain": [
       "6.906"
      ]
     },
     "execution_count": 25,
     "metadata": {},
     "output_type": "execute_result"
    }
   ],
   "source": [
    "cov_sample = sum((x - mu_x) * (y - mu_y)) / N\n",
    "cov_sample"
   ]
  },
  {
   "cell_type": "code",
   "execution_count": 26,
   "id": "bb7d78da",
   "metadata": {},
   "outputs": [
    {
     "data": {
      "text/plain": [
       "7.673"
      ]
     },
     "execution_count": 26,
     "metadata": {},
     "output_type": "execute_result"
    }
   ],
   "source": [
    "cov = sum((x - mu_x) * (y - mu_y)) / (N - 1)\n",
    "cov"
   ]
  },
  {
   "cell_type": "code",
   "execution_count": 27,
   "id": "2fab6edf",
   "metadata": {},
   "outputs": [
    {
     "data": {
      "text/plain": [
       "array([[ 3.282,  6.906],\n",
       "       [ 6.906, 25.21 ]])"
      ]
     },
     "execution_count": 27,
     "metadata": {},
     "output_type": "execute_result"
    }
   ],
   "source": [
    "# 분산 공분산 행렬\n",
    "np.cov(x, y, ddof=0)"
   ]
  },
  {
   "cell_type": "code",
   "execution_count": 28,
   "id": "bf095a37",
   "metadata": {},
   "outputs": [
    {
     "data": {
      "text/plain": [
       "array([[ 3.646,  7.673],\n",
       "       [ 7.673, 28.011]])"
      ]
     },
     "execution_count": 28,
     "metadata": {},
     "output_type": "execute_result"
    }
   ],
   "source": [
    "np.cov(x, y, ddof=1)"
   ]
  },
  {
   "cell_type": "markdown",
   "id": "678f5e99",
   "metadata": {},
   "source": [
    "### 피어슨 상관계수\n",
    "- 변수 x, y가 있을 때 두 변수간의 선형관계를 척도로 나타내는 수치를 피어슨 상관계수라고 합니다.\n",
    "- 피어슨 상관계수는 공분산을 최대값 1 그리고 최소값 -1 사이가 되도록 표준화하는 것이기도 합니다.\n",
    "- 공분산의 특성상 데이터의 단위와 크기에 따라 최대값과 최소값이 얼마가 될 지 알 수 없습니다. \n",
    "- 데이터 간의 공분산의 정도를 비교할수 있도록 -1 ~ +1 범위가 되도록 보정하기 위한 장치가 상관계수입니다."
   ]
  },
  {
   "cell_type": "code",
   "execution_count": 30,
   "id": "5f09eadc",
   "metadata": {},
   "outputs": [
    {
     "data": {
      "text/plain": [
       "0.7592719041137088"
      ]
     },
     "execution_count": 30,
     "metadata": {},
     "output_type": "execute_result"
    }
   ],
   "source": [
    "# 분산 계산\n",
    "sigma_2_x = np.var(x, ddof=1)\n",
    "sigma_2_y = np.var(y, ddof=1)\n",
    "\n",
    "# 상관계수\n",
    "rho = cov / np.sqrt(sigma_2_x * sigma_2_y)\n",
    "rho"
   ]
  },
  {
   "cell_type": "markdown",
   "id": "b10cdb9f",
   "metadata": {},
   "source": [
    "상관계수의 특징상 분모와 분자가 같은 값으로 나눠지므로 분산과 공분산 계산식의 분모에 N 또는 N -1을 사용하든 상관계수는 변하지 않습니다."
   ]
  },
  {
   "cell_type": "code",
   "execution_count": 33,
   "id": "98ee6b8a",
   "metadata": {},
   "outputs": [
    {
     "data": {
      "text/plain": [
       "0.7592719041137087"
      ]
     },
     "execution_count": 33,
     "metadata": {},
     "output_type": "execute_result"
    }
   ],
   "source": [
    "# 분산 계산\n",
    "sigma_2_x_sample = np.var(x, ddof=0)\n",
    "sigma_2_y_sample = np.var(y, ddof=0)\n",
    "\n",
    "# 상관계수\n",
    "rho = cov_sample / np.sqrt(sigma_2_x_sample * sigma_2_y_sample)\n",
    "rho"
   ]
  },
  {
   "cell_type": "code",
   "execution_count": 34,
   "id": "833a9ad8",
   "metadata": {},
   "outputs": [
    {
     "data": {
      "text/plain": [
       "array([[1.   , 0.759],\n",
       "       [0.759, 1.   ]])"
      ]
     },
     "execution_count": 34,
     "metadata": {},
     "output_type": "execute_result"
    }
   ],
   "source": [
    "# 상관행렬\n",
    "np.corrcoef(x, y)"
   ]
  }
 ],
 "metadata": {
  "kernelspec": {
   "display_name": "Python 3 (ipykernel)",
   "language": "python",
   "name": "python3"
  },
  "language_info": {
   "codemirror_mode": {
    "name": "ipython",
    "version": 3
   },
   "file_extension": ".py",
   "mimetype": "text/x-python",
   "name": "python",
   "nbconvert_exporter": "python",
   "pygments_lexer": "ipython3",
   "version": "3.7.2"
  }
 },
 "nbformat": 4,
 "nbformat_minor": 5
}
