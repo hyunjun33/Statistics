{
 "cells": [
  {
   "cell_type": "code",
   "execution_count": 1,
   "id": "fdb345c6",
   "metadata": {},
   "outputs": [],
   "source": [
    "import numpy as np\n",
    "import scipy as sp\n",
    "import pandas as pd"
   ]
  },
  {
   "cell_type": "markdown",
   "id": "c946f1c5",
   "metadata": {},
   "source": [
    "여러개의 변수를 조합한 데이터를 다변량 데이터라고 부릅니다. 다변량 데이터의 핵심은 '깔끔한 데이터' 형식으로 정리하는 것이라고 할 수 있습니다.\n",
    "\n",
    "### 깔끔한 데이터란?\n",
    "- 2014년 해들리 위컴이 통계 소프트웨어 저널에서 처음 제시한 용어입니다.\n",
    "- 개별 값이 하나의 셀을 이룬다.\n",
    "- 개별 변수가 하나의 열을 이룬다.\n",
    "- 개별 관측이 하나의 행을 이룬다.\n",
    "- 개별 관측 유닛 유형이 하나의 표를 이룬다.\n",
    "\n",
    "깔끔한 데이터는 '의미와 구조가 대응한다'는 특징이 있습니다."
   ]
  },
  {
   "cell_type": "code",
   "execution_count": 2,
   "id": "1773d8d5",
   "metadata": {},
   "outputs": [
    {
     "data": {
      "text/plain": [
       "'%.3f'"
      ]
     },
     "execution_count": 2,
     "metadata": {},
     "output_type": "execute_result"
    }
   ],
   "source": [
    "%precision 3"
   ]
  },
  {
   "cell_type": "markdown",
   "id": "d5cb0ef1",
   "metadata": {},
   "source": [
    "### 다변량 데이터의 그룹별 통계량 계산하기"
   ]
  },
  {
   "cell_type": "code",
   "execution_count": 7,
   "id": "4471e8f4",
   "metadata": {},
   "outputs": [
    {
     "name": "stdout",
     "output_type": "stream",
     "text": [
      "  species  length\n",
      "0       A       2\n",
      "1       A       3\n",
      "2       A       4\n",
      "3       B       6\n",
      "4       B       8\n",
      "5       B      10\n"
     ]
    }
   ],
   "source": [
    "fish_multi = pd.read_csv(\"./sample/3-2-1-fish_multi.csv\")\n",
    "print(fish_multi)"
   ]
  },
  {
   "cell_type": "code",
   "execution_count": 10,
   "id": "7e8777c0",
   "metadata": {},
   "outputs": [
    {
     "name": "stdout",
     "output_type": "stream",
     "text": [
      "         length\n",
      "species        \n",
      "A           3.0\n",
      "B           8.0\n",
      "         length\n",
      "species        \n",
      "A           1.0\n",
      "B           2.0\n"
     ]
    }
   ],
   "source": [
    "# 종류별 평균값과 표준편차\n",
    "grouped = fish_multi.groupby(\"species\")\n",
    "\n",
    "print(grouped.mean())\n",
    "print(grouped.std(ddof=1))"
   ]
  },
  {
   "cell_type": "code",
   "execution_count": null,
   "id": "60307499",
   "metadata": {},
   "outputs": [],
   "source": []
  }
 ],
 "metadata": {
  "kernelspec": {
   "display_name": "Python 3 (ipykernel)",
   "language": "python",
   "name": "python3"
  },
  "language_info": {
   "codemirror_mode": {
    "name": "ipython",
    "version": 3
   },
   "file_extension": ".py",
   "mimetype": "text/x-python",
   "name": "python",
   "nbconvert_exporter": "python",
   "pygments_lexer": "ipython3",
   "version": "3.7.2"
  }
 },
 "nbformat": 4,
 "nbformat_minor": 5
}
