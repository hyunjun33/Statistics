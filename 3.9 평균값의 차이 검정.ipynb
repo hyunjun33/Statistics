{
 "cells": [
  {
   "cell_type": "code",
   "execution_count": 1,
   "id": "1b97575c",
   "metadata": {},
   "outputs": [
    {
     "data": {
      "text/plain": [
       "'%.3f'"
      ]
     },
     "execution_count": 1,
     "metadata": {},
     "output_type": "execute_result"
    }
   ],
   "source": [
    "import numpy as np\n",
    "import pandas as pd\n",
    "import scipy as sp\n",
    "from scipy import stats\n",
    "import matplotlib.pyplot as plt\n",
    "import seaborn as sns\n",
    "sns.set()\n",
    "%precision 3"
   ]
  },
  {
   "cell_type": "markdown",
   "id": "3749f0e2",
   "metadata": {},
   "source": [
    "### 2집단 데이터에 대한 t검정\n",
    "- 귀무가설 : 약을 먹기 전과 후의 체온이 변하지 않는다.\n",
    "- 대립가설 : 약을 먹기 전과 후의 체온이 다르다."
   ]
  },
  {
   "cell_type": "code",
   "execution_count": 2,
   "id": "02763056",
   "metadata": {},
   "outputs": [
    {
     "data": {
      "text/html": [
       "<div>\n",
       "<style scoped>\n",
       "    .dataframe tbody tr th:only-of-type {\n",
       "        vertical-align: middle;\n",
       "    }\n",
       "\n",
       "    .dataframe tbody tr th {\n",
       "        vertical-align: top;\n",
       "    }\n",
       "\n",
       "    .dataframe thead th {\n",
       "        text-align: right;\n",
       "    }\n",
       "</style>\n",
       "<table border=\"1\" class=\"dataframe\">\n",
       "  <thead>\n",
       "    <tr style=\"text-align: right;\">\n",
       "      <th></th>\n",
       "      <th>person</th>\n",
       "      <th>medicine</th>\n",
       "      <th>body_temperature</th>\n",
       "    </tr>\n",
       "  </thead>\n",
       "  <tbody>\n",
       "    <tr>\n",
       "      <th>0</th>\n",
       "      <td>A</td>\n",
       "      <td>before</td>\n",
       "      <td>36.2</td>\n",
       "    </tr>\n",
       "    <tr>\n",
       "      <th>1</th>\n",
       "      <td>B</td>\n",
       "      <td>before</td>\n",
       "      <td>36.2</td>\n",
       "    </tr>\n",
       "    <tr>\n",
       "      <th>2</th>\n",
       "      <td>C</td>\n",
       "      <td>before</td>\n",
       "      <td>35.3</td>\n",
       "    </tr>\n",
       "    <tr>\n",
       "      <th>3</th>\n",
       "      <td>D</td>\n",
       "      <td>before</td>\n",
       "      <td>36.1</td>\n",
       "    </tr>\n",
       "    <tr>\n",
       "      <th>4</th>\n",
       "      <td>E</td>\n",
       "      <td>before</td>\n",
       "      <td>36.1</td>\n",
       "    </tr>\n",
       "    <tr>\n",
       "      <th>5</th>\n",
       "      <td>A</td>\n",
       "      <td>after</td>\n",
       "      <td>36.8</td>\n",
       "    </tr>\n",
       "    <tr>\n",
       "      <th>6</th>\n",
       "      <td>B</td>\n",
       "      <td>after</td>\n",
       "      <td>36.1</td>\n",
       "    </tr>\n",
       "    <tr>\n",
       "      <th>7</th>\n",
       "      <td>C</td>\n",
       "      <td>after</td>\n",
       "      <td>36.8</td>\n",
       "    </tr>\n",
       "    <tr>\n",
       "      <th>8</th>\n",
       "      <td>D</td>\n",
       "      <td>after</td>\n",
       "      <td>37.1</td>\n",
       "    </tr>\n",
       "    <tr>\n",
       "      <th>9</th>\n",
       "      <td>E</td>\n",
       "      <td>after</td>\n",
       "      <td>36.9</td>\n",
       "    </tr>\n",
       "  </tbody>\n",
       "</table>\n",
       "</div>"
      ],
      "text/plain": [
       "  person medicine  body_temperature\n",
       "0      A   before              36.2\n",
       "1      B   before              36.2\n",
       "2      C   before              35.3\n",
       "3      D   before              36.1\n",
       "4      E   before              36.1\n",
       "5      A    after              36.8\n",
       "6      B    after              36.1\n",
       "7      C    after              36.8\n",
       "8      D    after              37.1\n",
       "9      E    after              36.9"
      ]
     },
     "execution_count": 2,
     "metadata": {},
     "output_type": "execute_result"
    }
   ],
   "source": [
    "paired_test_data = pd.read_csv(\"./sample/3-9-1-paired-t-test.csv\")\n",
    "paired_test_data"
   ]
  },
  {
   "cell_type": "code",
   "execution_count": 3,
   "id": "2582230c",
   "metadata": {},
   "outputs": [],
   "source": [
    "# 약을 먹기 전과 후의 표본평균\n",
    "before = paired_test_data.loc[paired_test_data[\"medicine\"] == \"before\", \"body_temperature\"]\n",
    "after = paired_test_data.loc[paired_test_data[\"medicine\"] == \"after\", \"body_temperature\"]"
   ]
  },
  {
   "cell_type": "code",
   "execution_count": 4,
   "id": "852bd386",
   "metadata": {},
   "outputs": [
    {
     "data": {
      "text/plain": [
       "array([ 0.6, -0.1,  1.5,  1. ,  0.8])"
      ]
     },
     "execution_count": 4,
     "metadata": {},
     "output_type": "execute_result"
    }
   ],
   "source": [
    "# 배열형으로 변환\n",
    "before = np.array(before)\n",
    "after = np.array(after)\n",
    "\n",
    "# 차이 계산\n",
    "diff = after - before\n",
    "diff"
   ]
  },
  {
   "cell_type": "code",
   "execution_count": 5,
   "id": "d1f21c14",
   "metadata": {},
   "outputs": [
    {
     "data": {
      "text/plain": [
       "Ttest_1sampResult(statistic=2.901693483620596, pvalue=0.044043109730074276)"
      ]
     },
     "execution_count": 5,
     "metadata": {},
     "output_type": "execute_result"
    }
   ],
   "source": [
    "# 차이값의 평균값이 0과 다른지 1집단 t검정으로 체크\n",
    "stats.ttest_1samp(diff, 0)"
   ]
  },
  {
   "cell_type": "code",
   "execution_count": 6,
   "id": "97521a7e",
   "metadata": {},
   "outputs": [
    {
     "data": {
      "text/plain": [
       "Ttest_relResult(statistic=2.901693483620596, pvalue=0.044043109730074276)"
      ]
     },
     "execution_count": 6,
     "metadata": {},
     "output_type": "execute_result"
    }
   ],
   "source": [
    "# p값이 0.05보다 작으므로 약을 먹기 전과 후의 체온은 유의미한 차이가 있다\n",
    "stats.ttest_rel(after, before)"
   ]
  },
  {
   "cell_type": "markdown",
   "id": "174f470d",
   "metadata": {},
   "source": [
    "### 독립표본 t검정"
   ]
  },
  {
   "cell_type": "code",
   "execution_count": 10,
   "id": "d0c71dfb",
   "metadata": {},
   "outputs": [
    {
     "data": {
      "text/plain": [
       "3.1557282344421034"
      ]
     },
     "execution_count": 10,
     "metadata": {},
     "output_type": "execute_result"
    }
   ],
   "source": [
    "# 평균값\n",
    "mean_bef = np.mean(before)\n",
    "mean_aft = np.mean(after)\n",
    "\n",
    "# 분산\n",
    "sigma_bef = np.var(before, ddof=1)\n",
    "sigma_aft = np.var(after, ddof=1)\n",
    "\n",
    "# 샘플사이즈\n",
    "m = len(before)\n",
    "n = len(after)\n",
    "\n",
    "# t값\n",
    "t_value = (mean_aft - mean_bef) / np.sqrt((sigma_bef/m + sigma_aft/n))\n",
    "t_value"
   ]
  },
  {
   "cell_type": "code",
   "execution_count": 12,
   "id": "4473054a",
   "metadata": {},
   "outputs": [
    {
     "data": {
      "text/plain": [
       "Ttest_indResult(statistic=3.1557282344421034, pvalue=0.013484775682079892)"
      ]
     },
     "execution_count": 12,
     "metadata": {},
     "output_type": "execute_result"
    }
   ],
   "source": [
    "# equal_var = False로 지정하여 Welch 검정을 채택한다. 등분산성을 알아보지 않고, 분산이 다르다고 가정.\n",
    "stats.ttest_ind(after, before, equal_var=False)"
   ]
  }
 ],
 "metadata": {
  "kernelspec": {
   "display_name": "Python 3 (ipykernel)",
   "language": "python",
   "name": "python3"
  },
  "language_info": {
   "codemirror_mode": {
    "name": "ipython",
    "version": 3
   },
   "file_extension": ".py",
   "mimetype": "text/x-python",
   "name": "python",
   "nbconvert_exporter": "python",
   "pygments_lexer": "ipython3",
   "version": "3.7.2"
  }
 },
 "nbformat": 4,
 "nbformat_minor": 5
}
