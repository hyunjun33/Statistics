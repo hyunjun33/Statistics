{
 "cells": [
  {
   "cell_type": "code",
   "execution_count": 1,
   "id": "e6487ead",
   "metadata": {},
   "outputs": [
    {
     "data": {
      "text/plain": [
       "'%.3f'"
      ]
     },
     "execution_count": 1,
     "metadata": {},
     "output_type": "execute_result"
    }
   ],
   "source": [
    "import numpy as np\n",
    "import pandas as pd\n",
    "import scipy as sp\n",
    "from scipy import stats\n",
    "import matplotlib.pyplot as plt\n",
    "import seaborn as sns\n",
    "sns.set()\n",
    "%precision 3"
   ]
  },
  {
   "cell_type": "markdown",
   "id": "5d901828",
   "metadata": {},
   "source": [
    "통계적 추정이란 즉, 모집단의 파라미터를 추정하는 것을 말합니다. 이번에는 모집단분포가 정규분포임을 가정했을 때 모집단의 파라미터를 활용해 모집단 분포를 추정하는 과정을 알아보겠습니다.\n",
    "\n",
    "- 단순한 점추정\n",
    "- 추정오차를 가미한 구간추정 방법"
   ]
  },
  {
   "cell_type": "code",
   "execution_count": 2,
   "id": "b6c21991",
   "metadata": {},
   "outputs": [
    {
     "data": {
      "text/plain": [
       "0    4.352982\n",
       "1    3.735304\n",
       "2    5.944617\n",
       "3    3.798326\n",
       "4    4.087688\n",
       "5    5.265985\n",
       "6    3.272614\n",
       "7    3.526691\n",
       "8    4.150083\n",
       "9    3.736104\n",
       "Name: length, dtype: float64"
      ]
     },
     "execution_count": 2,
     "metadata": {},
     "output_type": "execute_result"
    }
   ],
   "source": [
    "# 추정에 활용할 데이터 불러오기\n",
    "fish = pd.read_csv(\"./sample/3-7-1-fish_length.csv\")[\"length\"]\n",
    "fish"
   ]
  },
  {
   "cell_type": "markdown",
   "id": "9e725099",
   "metadata": {},
   "source": [
    "### 점추정\n",
    "- 점추정이란 모집단분포의 파라미터를 어느 1개의 값으로 추정하는 추정 방법을 말합니다.\n",
    "- 예를 들어 모집단의 평균을 추정하는 경우, 표본평균을 추정값으로 활용합니다.\n",
    "- 표본에서 평균값을 계산하는 행위가 사실은 추정하는 것으로 볼 수 있습니다.\n",
    "\n",
    "물론 표본평균을 사용해도 되는 이유를 짚고 넘어가야 합니다. 표본평균은 불편성과 일치성을 가지고 있는 통계량이기 때문입니다. 모집단 분포를 추정하는 데 활용하는 추정 통계량에는 그에 따른 가정과 근거가 중요합니다."
   ]
  },
  {
   "cell_type": "code",
   "execution_count": 3,
   "id": "1d8e21f4",
   "metadata": {},
   "outputs": [
    {
     "data": {
      "text/plain": [
       "4.187039324504523"
      ]
     },
     "execution_count": 3,
     "metadata": {},
     "output_type": "execute_result"
    }
   ],
   "source": [
    "# 표본평균을 계산\n",
    "mu = np.mean(fish)\n",
    "mu"
   ]
  },
  {
   "cell_type": "code",
   "execution_count": null,
   "id": "c4e60c6e",
   "metadata": {},
   "outputs": [],
   "source": []
  }
 ],
 "metadata": {
  "kernelspec": {
   "display_name": "Python 3 (ipykernel)",
   "language": "python",
   "name": "python3"
  },
  "language_info": {
   "codemirror_mode": {
    "name": "ipython",
    "version": 3
   },
   "file_extension": ".py",
   "mimetype": "text/x-python",
   "name": "python",
   "nbconvert_exporter": "python",
   "pygments_lexer": "ipython3",
   "version": "3.7.2"
  }
 },
 "nbformat": 4,
 "nbformat_minor": 5
}
