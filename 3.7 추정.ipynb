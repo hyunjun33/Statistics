{
 "cells": [
  {
   "cell_type": "code",
   "execution_count": 1,
   "id": "e7da4af6",
   "metadata": {},
   "outputs": [
    {
     "data": {
      "text/plain": [
       "'%.3f'"
      ]
     },
     "execution_count": 1,
     "metadata": {},
     "output_type": "execute_result"
    }
   ],
   "source": [
    "import numpy as np\n",
    "import pandas as pd\n",
    "import scipy as sp\n",
    "from scipy import stats\n",
    "import matplotlib.pyplot as plt\n",
    "import seaborn as sns\n",
    "sns.set()\n",
    "%precision 3"
   ]
  },
  {
   "cell_type": "markdown",
   "id": "7fb23237",
   "metadata": {},
   "source": [
    "통계적 추정이란 즉, 모집단의 파라미터를 추정하는 것을 말합니다. 이번에는 모집단분포가 정규분포임을 가정했을 때 모집단의 파라미터를 활용해 모집단 분포를 추정하는 과정을 알아보겠습니다.\n",
    "\n",
    "- 단순한 점추정\n",
    "- 추정오차를 가미한 구간추정 방법"
   ]
  },
  {
   "cell_type": "code",
   "execution_count": 2,
   "id": "c8b26278",
   "metadata": {},
   "outputs": [
    {
     "data": {
      "text/plain": [
       "0    4.352982\n",
       "1    3.735304\n",
       "2    5.944617\n",
       "3    3.798326\n",
       "4    4.087688\n",
       "5    5.265985\n",
       "6    3.272614\n",
       "7    3.526691\n",
       "8    4.150083\n",
       "9    3.736104\n",
       "Name: length, dtype: float64"
      ]
     },
     "execution_count": 2,
     "metadata": {},
     "output_type": "execute_result"
    }
   ],
   "source": [
    "# 추정에 활용할 데이터 불러오기\n",
    "fish = pd.read_csv(\"./sample/3-7-1-fish_length.csv\")[\"length\"]\n",
    "fish"
   ]
  },
  {
   "cell_type": "markdown",
   "id": "3e6e08e9",
   "metadata": {},
   "source": [
    "### 점추정\n",
    "- 점추정이란 모집단분포의 파라미터를 어느 1개의 값으로 추정하는 추정 방법을 말합니다.\n",
    "- 예를 들어 모집단의 평균을 추정하는 경우, 표본평균을 추정값으로 활용합니다.\n",
    "- 표본에서 평균값을 계산하는 행위가 사실은 추정하는 것으로 볼 수 있습니다.\n",
    "\n",
    "물론 표본평균을 사용해도 되는 이유를 짚고 넘어가야 합니다. 표본평균은 불편성과 일치성을 가지고 있는 통계량이기 때문입니다. 모집단 분포를 추정하는 데 활용하는 추정 통계량에는 그에 따른 가정과 근거가 중요합니다."
   ]
  },
  {
   "cell_type": "code",
   "execution_count": 3,
   "id": "4ed0a1fd",
   "metadata": {},
   "outputs": [
    {
     "data": {
      "text/plain": [
       "4.187039324504523"
      ]
     },
     "execution_count": 3,
     "metadata": {},
     "output_type": "execute_result"
    }
   ],
   "source": [
    "# 표본평균을 계산\n",
    "mu = np.mean(fish)\n",
    "mu"
   ]
  },
  {
   "cell_type": "code",
   "execution_count": 4,
   "id": "37be6a73",
   "metadata": {},
   "outputs": [
    {
     "data": {
      "text/plain": [
       "0.6803017080832623"
      ]
     },
     "execution_count": 4,
     "metadata": {},
     "output_type": "execute_result"
    }
   ],
   "source": [
    "# 모분산의 점추정값으로 불편분산을 활용\n",
    "sigma_2 = np.var(fish, ddof=1)\n",
    "sigma_2"
   ]
  },
  {
   "cell_type": "markdown",
   "id": "61d7152e",
   "metadata": {},
   "source": [
    "### 구간추정\n",
    "- 구간추정은 추정값이 일정 값의 범위에 분포할 확률을 구하여 추정하는 방법을 말합니다.\n",
    "- 구간추정은 폭을 가지므로 그에 따른 추정오차 또한 명시합니다.\n",
    "- 추정오차가 작으면 구간추정의 폭 역식 좁아지게 됩니다.\n",
    "- 또한 샘플사이즈가 커질수록 큰수의 법칙에 의해 구간추정의 폭이 좁아집니다."
   ]
  },
  {
   "cell_type": "markdown",
   "id": "d06cafa2",
   "metadata": {},
   "source": [
    "### 신뢰계수와 신뢰구간\n",
    "- 신뢰계수란 구간추정의 폭에 대한 신뢰 정도를 확률로 표현한 것을 말합니다.\n",
    "- 일반적으로 활용하는 신뢰계수는 95%와 99%라는 수치가 있습니다.\n",
    "- 신뢰구간이란 특정 신뢰계수를 만족하는 구간을 의미합니다.\n",
    "- 똑같은 데이터를 대상으로 했을 경우, 신뢰계수가 클수록 신뢰구간의 폭이 넓어집니다."
   ]
  },
  {
   "cell_type": "code",
   "execution_count": null,
   "id": "c6423781",
   "metadata": {},
   "outputs": [],
   "source": []
  }
 ],
 "metadata": {
  "kernelspec": {
   "display_name": "Python 3 (ipykernel)",
   "language": "python",
   "name": "python3"
  },
  "language_info": {
   "codemirror_mode": {
    "name": "ipython",
    "version": 3
   },
   "file_extension": ".py",
   "mimetype": "text/x-python",
   "name": "python",
   "nbconvert_exporter": "python",
   "pygments_lexer": "ipython3",
   "version": "3.7.2"
  }
 },
 "nbformat": 4,
 "nbformat_minor": 5
}
