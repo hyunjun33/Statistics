{
 "cells": [
  {
   "cell_type": "code",
   "execution_count": 1,
   "id": "b5648372",
   "metadata": {},
   "outputs": [
    {
     "data": {
      "text/plain": [
       "'%.3f'"
      ]
     },
     "execution_count": 1,
     "metadata": {},
     "output_type": "execute_result"
    }
   ],
   "source": [
    "import numpy as np\n",
    "import pandas as pd\n",
    "import scipy as sp\n",
    "from scipy import stats\n",
    "import matplotlib.pyplot as plt\n",
    "import seaborn as sns\n",
    "sns.set()\n",
    "%precision 3"
   ]
  },
  {
   "cell_type": "markdown",
   "id": "bb512d0d",
   "metadata": {},
   "source": [
    "통계적 추정이란 즉, 모집단의 파라미터를 추정하는 것을 말합니다. 이번에는 모집단분포가 정규분포임을 가정했을 때 모집단의 파라미터를 활용해 모집단 분포를 추정하는 과정을 알아보겠습니다.\n",
    "\n",
    "- 단순한 점추정\n",
    "- 추정오차를 가미한 구간추정 방법"
   ]
  },
  {
   "cell_type": "code",
   "execution_count": 2,
   "id": "b0096ca2",
   "metadata": {},
   "outputs": [
    {
     "data": {
      "text/plain": [
       "0    4.352982\n",
       "1    3.735304\n",
       "2    5.944617\n",
       "3    3.798326\n",
       "4    4.087688\n",
       "5    5.265985\n",
       "6    3.272614\n",
       "7    3.526691\n",
       "8    4.150083\n",
       "9    3.736104\n",
       "Name: length, dtype: float64"
      ]
     },
     "execution_count": 2,
     "metadata": {},
     "output_type": "execute_result"
    }
   ],
   "source": [
    "# 추정에 활용할 데이터 불러오기\n",
    "fish = pd.read_csv(\"./sample/3-7-1-fish_length.csv\")[\"length\"]\n",
    "fish"
   ]
  },
  {
   "cell_type": "markdown",
   "id": "820552b3",
   "metadata": {},
   "source": [
    "### 점추정\n",
    "- 점추정이란 모집단분포의 파라미터를 어느 1개의 값으로 추정하는 추정 방법을 말합니다.\n",
    "- 예를 들어 모집단의 평균을 추정하는 경우, 표본평균을 추정값으로 활용합니다.\n",
    "- 표본에서 평균값을 계산하는 행위가 사실은 추정하는 것으로 볼 수 있습니다.\n",
    "\n",
    "물론 표본평균을 사용해도 되는 이유를 짚고 넘어가야 합니다. 표본평균은 불편성과 일치성을 가지고 있는 통계량이기 때문입니다. 모집단 분포를 추정하는 데 활용하는 추정 통계량에는 그에 따른 가정과 근거가 중요합니다."
   ]
  },
  {
   "cell_type": "code",
   "execution_count": 3,
   "id": "e371d96c",
   "metadata": {},
   "outputs": [
    {
     "data": {
      "text/plain": [
       "4.187039324504523"
      ]
     },
     "execution_count": 3,
     "metadata": {},
     "output_type": "execute_result"
    }
   ],
   "source": [
    "# 표본평균을 계산\n",
    "mu = np.mean(fish)\n",
    "mu"
   ]
  },
  {
   "cell_type": "code",
   "execution_count": 4,
   "id": "f5c50215",
   "metadata": {},
   "outputs": [
    {
     "data": {
      "text/plain": [
       "0.6803017080832623"
      ]
     },
     "execution_count": 4,
     "metadata": {},
     "output_type": "execute_result"
    }
   ],
   "source": [
    "# 모분산의 점추정값으로 불편분산을 활용\n",
    "sigma_2 = np.var(fish, ddof=1)\n",
    "sigma_2"
   ]
  },
  {
   "cell_type": "markdown",
   "id": "4f49d605",
   "metadata": {},
   "source": [
    "### 구간추정\n",
    "- 구간추정은 추정값이 일정 값의 범위에 분포할 확률을 구하여 추정하는 방법을 말합니다.\n",
    "- 구간추정은 폭을 가지므로 그에 따른 추정오차 또한 명시합니다.\n",
    "- 추정오차가 작으면 구간추정의 폭 역식 좁아지게 됩니다.\n",
    "- 또한 샘플사이즈가 커질수록 큰수의 법칙에 의해 구간추정의 폭이 좁아집니다.\n",
    "\n",
    "### 신뢰계수와 신뢰구간\n",
    "- 신뢰계수란 구간추정의 폭에 대한 신뢰 정도를 확률로 표현한 것을 말합니다.\n",
    "- 일반적으로 활용하는 신뢰계수는 95%와 99%라는 수치가 있습니다.\n",
    "- 신뢰구간이란 특정 신뢰계수를 만족하는 구간을 의미합니다.\n",
    "- 똑같은 데이터를 대상으로 했을 경우, 신뢰계수가 클수록 신뢰구간의 폭이 넓어집니다.\n",
    "\n",
    "### 신뢰한계\n",
    "- 신뢰한계는 신뢰구간의 하한값과 상한값을 의미합니다. 각각을 하측신뢰한계와 상측신뢰한계라고 부릅니다.\n",
    "\n",
    "### 신뢰구간 계산 방법\n",
    "- (표본평균 - 모평균) / 표준오차 = t값 -> t분포를 따른다.\n",
    "- 구간추정은 t분포의 퍼센트 포인트를 사용합니다. \n",
    "- 95% 신뢰계수 라고 할 때 t분포는 2.5% 지점과 97.5% 지점을 계산합니다.\n",
    "- 이러한 신뢰구간을 해석할 때, 't분포를 따르는 변수가 이 구간에 들어갈 확률은 95%이다.'라고 할 수 있습니다.\n",
    "\n",
    "### 구간추정 (실습)\n",
    "- 구간추정에 필요한 정보는 자유도 (샘플사이즈 - 1), 표본평균, 표준오차 등 3가지입니다."
   ]
  },
  {
   "cell_type": "code",
   "execution_count": 5,
   "id": "8fcb08b7",
   "metadata": {},
   "outputs": [
    {
     "data": {
      "text/plain": [
       "9"
      ]
     },
     "execution_count": 5,
     "metadata": {},
     "output_type": "execute_result"
    }
   ],
   "source": [
    "df = len(fish) - 1\n",
    "df"
   ]
  },
  {
   "cell_type": "code",
   "execution_count": 6,
   "id": "4212ac78",
   "metadata": {},
   "outputs": [
    {
     "data": {
      "text/plain": [
       "0.26082593967687767"
      ]
     },
     "execution_count": 6,
     "metadata": {},
     "output_type": "execute_result"
    }
   ],
   "source": [
    "sigma = np.std(fish, ddof=1)\n",
    "se = sigma / np.sqrt(len(fish))\n",
    "se"
   ]
  },
  {
   "cell_type": "code",
   "execution_count": 8,
   "id": "387e8eef",
   "metadata": {},
   "outputs": [
    {
     "data": {
      "text/plain": [
       "(3.5970100568358245, 4.777068592173221)"
      ]
     },
     "execution_count": 8,
     "metadata": {},
     "output_type": "execute_result"
    }
   ],
   "source": [
    "# 95% 신뢰구간은 3.597에서 4.777까지 입니다.\n",
    "interval = stats.t.interval(alpha=0.95, df=df, loc=mu, scale=se)\n",
    "interval"
   ]
  },
  {
   "cell_type": "code",
   "execution_count": 9,
   "id": "3a3b35ff",
   "metadata": {},
   "outputs": [
    {
     "data": {
      "text/plain": [
       "2.2621571627409915"
      ]
     },
     "execution_count": 9,
     "metadata": {},
     "output_type": "execute_result"
    }
   ],
   "source": [
    "# 신뢰구간을 직접 구해보기\n",
    "t_975 = stats.t.ppf(q=0.975, df=df)\n",
    "t_975"
   ]
  },
  {
   "cell_type": "code",
   "execution_count": 11,
   "id": "2811d907",
   "metadata": {},
   "outputs": [
    {
     "data": {
      "text/plain": [
       "3.5970100568358245"
      ]
     },
     "execution_count": 11,
     "metadata": {},
     "output_type": "execute_result"
    }
   ],
   "source": [
    "lower = mu - t_975 * se\n",
    "lower"
   ]
  },
  {
   "cell_type": "code",
   "execution_count": 13,
   "id": "d2772f43",
   "metadata": {},
   "outputs": [
    {
     "data": {
      "text/plain": [
       "4.777068592173221"
      ]
     },
     "execution_count": 13,
     "metadata": {},
     "output_type": "execute_result"
    }
   ],
   "source": [
    "upper = mu + t_975 * se\n",
    "upper"
   ]
  },
  {
   "cell_type": "code",
   "execution_count": 15,
   "id": "a0362164",
   "metadata": {},
   "outputs": [
    {
     "data": {
      "text/plain": [
       "(-1.7132533521824618, 10.087332001191509)"
      ]
     },
     "execution_count": 15,
     "metadata": {},
     "output_type": "execute_result"
    }
   ],
   "source": [
    "# 신뢰구간의 폭을 결정하는 요소\n",
    "se2 = (sigma * 10) / np.sqrt(len(fish)) # 표본 표준편차를 10배 늘려 95% 신뢰구간을 계산\n",
    "stats.t.interval(alpha=0.95, df=df, loc=mu, scale=se2) # 신뢰구간의 폭이 넓어짐"
   ]
  },
  {
   "cell_type": "code",
   "execution_count": 16,
   "id": "74b617da",
   "metadata": {},
   "outputs": [
    {
     "data": {
      "text/plain": [
       "(4.0233803082774395, 4.350698340731607)"
      ]
     },
     "execution_count": 16,
     "metadata": {},
     "output_type": "execute_result"
    }
   ],
   "source": [
    "df2 = (len(fish) * 10) - 1 # 표본사이즈를 10배 늘려서 신뢰구간을 계산\n",
    "se3 = sigma / np.sqrt(len(fish) * 10)\n",
    "stats.t.interval(alpha=0.95, df=df2, loc=mu, scale=se3) # 신뢰구간의 폭이 좁아짐"
   ]
  },
  {
   "cell_type": "code",
   "execution_count": 17,
   "id": "e790d7d7",
   "metadata": {},
   "outputs": [
    {
     "data": {
      "text/plain": [
       "(3.3393979149413973, 5.034680734067649)"
      ]
     },
     "execution_count": 17,
     "metadata": {},
     "output_type": "execute_result"
    }
   ],
   "source": [
    "# 신뢰구간을 99%로 확장했을 때 신뢰구간의 폭 역시 넓어진다\n",
    "stats.t.interval(alpha=0.99, df=df, loc=mu, scale=se)"
   ]
  },
  {
   "cell_type": "code",
   "execution_count": 18,
   "id": "015fac22",
   "metadata": {},
   "outputs": [
    {
     "data": {
      "text/plain": [
       "array([False, False, False, ..., False, False, False])"
      ]
     },
     "execution_count": 18,
     "metadata": {},
     "output_type": "execute_result"
    }
   ],
   "source": [
    "# 구간추정 결과의 해석\n",
    "be_included_array = np.zeros(20000, dtype=\"bool\")\n",
    "be_included_array"
   ]
  },
  {
   "cell_type": "code",
   "execution_count": 21,
   "id": "4bb9c986",
   "metadata": {},
   "outputs": [],
   "source": [
    "# 95% 신뢰구간을 구하는 시행 20000번을 반복한다\n",
    "# 신뢰구간이 모평균 (4)를 포함하면 True\n",
    "np.random.seed(1)\n",
    "norm_dist = stats.norm(loc=4, scale=0.8)\n",
    "for i in range(0, 20000):\n",
    "    sample = norm_dist.rvs(size=10)\n",
    "    df = len(sample) - 1\n",
    "    mu = np.mean(sample)\n",
    "    std = np.std(sample, ddof=1)\n",
    "    se = std / np.sqrt(len(fish))\n",
    "    interval = stats.t.interval(0.95, df, mu, se)\n",
    "    if (interval[0] <= 4 and interval[1] >= 4):\n",
    "        be_included_array[i] = True"
   ]
  },
  {
   "cell_type": "code",
   "execution_count": 22,
   "id": "349e946c",
   "metadata": {},
   "outputs": [
    {
     "data": {
      "text/plain": [
       "0.948"
      ]
     },
     "execution_count": 22,
     "metadata": {},
     "output_type": "execute_result"
    }
   ],
   "source": [
    "sum(be_included_array) / len(be_included_array)"
   ]
  }
 ],
 "metadata": {
  "kernelspec": {
   "display_name": "Python 3 (ipykernel)",
   "language": "python",
   "name": "python3"
  },
  "language_info": {
   "codemirror_mode": {
    "name": "ipython",
    "version": 3
   },
   "file_extension": ".py",
   "mimetype": "text/x-python",
   "name": "python",
   "nbconvert_exporter": "python",
   "pygments_lexer": "ipython3",
   "version": "3.7.2"
  }
 },
 "nbformat": 4,
 "nbformat_minor": 5
}
