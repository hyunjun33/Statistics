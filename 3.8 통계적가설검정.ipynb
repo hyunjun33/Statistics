{
 "cells": [
  {
   "cell_type": "code",
   "execution_count": 1,
   "id": "8c6e4137",
   "metadata": {},
   "outputs": [
    {
     "data": {
      "text/plain": [
       "'%.3f'"
      ]
     },
     "execution_count": 1,
     "metadata": {},
     "output_type": "execute_result"
    }
   ],
   "source": [
    "import numpy as np\n",
    "import pandas as pd\n",
    "import scipy as sp\n",
    "from scipy import stats\n",
    "import matplotlib.pyplot as plt\n",
    "import seaborn as sns\n",
    "sns.set()\n",
    "%precision 3"
   ]
  },
  {
   "cell_type": "code",
   "execution_count": 2,
   "id": "532e0807",
   "metadata": {},
   "outputs": [
    {
     "data": {
      "text/plain": [
       "0     58.529820\n",
       "1     52.353039\n",
       "2     74.446169\n",
       "3     52.983263\n",
       "4     55.876879\n",
       "5     67.659849\n",
       "6     47.726141\n",
       "7     50.266907\n",
       "8     56.500826\n",
       "9     52.361040\n",
       "10    45.457883\n",
       "11    53.360988\n",
       "12    52.129368\n",
       "13    59.827773\n",
       "14    41.681692\n",
       "15    49.398568\n",
       "16    64.211128\n",
       "17    69.858648\n",
       "18    42.910564\n",
       "19    60.158780\n",
       "Name: weight, dtype: float64"
      ]
     },
     "execution_count": 2,
     "metadata": {},
     "output_type": "execute_result"
    }
   ],
   "source": [
    "junk_food = pd.read_csv(\"./sample/3-8-1-junk-food-weight.csv\")[\"weight\"]\n",
    "junk_food"
   ]
  },
  {
   "cell_type": "markdown",
   "id": "94086538",
   "metadata": {},
   "source": [
    "### t검정의 구현\n",
    "- 귀무가설 : 봉지과자의 평균중량은 50g이다.\n",
    "- 대립가설 : 봉지과자의 평균중량은 50g이 아니다."
   ]
  },
  {
   "cell_type": "code",
   "execution_count": 3,
   "id": "7fdac01a",
   "metadata": {},
   "outputs": [
    {
     "data": {
      "text/plain": [
       "55.38496619666667"
      ]
     },
     "execution_count": 3,
     "metadata": {},
     "output_type": "execute_result"
    }
   ],
   "source": [
    "mu = np.mean(junk_food)\n",
    "mu"
   ]
  },
  {
   "cell_type": "code",
   "execution_count": 4,
   "id": "9b0f4497",
   "metadata": {},
   "outputs": [
    {
     "data": {
      "text/plain": [
       "19"
      ]
     },
     "execution_count": 4,
     "metadata": {},
     "output_type": "execute_result"
    }
   ],
   "source": [
    "df = len(junk_food) - 1\n",
    "df"
   ]
  },
  {
   "cell_type": "code",
   "execution_count": 5,
   "id": "74db884c",
   "metadata": {},
   "outputs": [
    {
     "data": {
      "text/plain": [
       "1.9579276805755885"
      ]
     },
     "execution_count": 5,
     "metadata": {},
     "output_type": "execute_result"
    }
   ],
   "source": [
    "sigma = np.std(junk_food, ddof=1)\n",
    "se = sigma / np.sqrt(len(junk_food))\n",
    "se"
   ]
  },
  {
   "cell_type": "code",
   "execution_count": 6,
   "id": "c2ef7d64",
   "metadata": {},
   "outputs": [
    {
     "data": {
      "text/plain": [
       "2.7503396831713434"
      ]
     },
     "execution_count": 6,
     "metadata": {},
     "output_type": "execute_result"
    }
   ],
   "source": [
    "t_value = (mu - 50) / se\n",
    "t_value"
   ]
  },
  {
   "cell_type": "markdown",
   "id": "148a441e",
   "metadata": {},
   "source": [
    "### p값 계산\n",
    "- 모집단을 정규분포로 가정했을 때, t값은 t분포를 따른다고 할 수 있다.\n",
    "- t분포의 누적분포함수를 활용할 수 있다.\n",
    "- p값의 계산은 t분포의 누적분포함수에 모평균을 50이라고 가정하고 t값이 t표본보다 작을 확률을 계산\n",
    "- 이 확률을 'Alpha'라고 합니다. (1 - Alpha)를 구하면 t값이 t표본보다 클 확률을 계산할 수 있습니다."
   ]
  },
  {
   "cell_type": "code",
   "execution_count": 7,
   "id": "d2c0fa37",
   "metadata": {},
   "outputs": [
    {
     "data": {
      "text/plain": [
       "0.012725590012524268"
      ]
     },
     "execution_count": 7,
     "metadata": {},
     "output_type": "execute_result"
    }
   ],
   "source": [
    "alpha = stats.t.cdf(t_value, df=df)\n",
    "(1 - alpha) * 2"
   ]
  },
  {
   "cell_type": "code",
   "execution_count": 8,
   "id": "4966036f",
   "metadata": {},
   "outputs": [
    {
     "data": {
      "text/plain": [
       "Ttest_1sampResult(statistic=2.750339683171343, pvalue=0.012725590012524182)"
      ]
     },
     "execution_count": 8,
     "metadata": {},
     "output_type": "execute_result"
    }
   ],
   "source": [
    "stats.ttest_1samp(junk_food, 50)"
   ]
  },
  {
   "cell_type": "code",
   "execution_count": null,
   "id": "813d8c01",
   "metadata": {},
   "outputs": [],
   "source": []
  }
 ],
 "metadata": {
  "kernelspec": {
   "display_name": "Python 3 (ipykernel)",
   "language": "python",
   "name": "python3"
  },
  "language_info": {
   "codemirror_mode": {
    "name": "ipython",
    "version": 3
   },
   "file_extension": ".py",
   "mimetype": "text/x-python",
   "name": "python",
   "nbconvert_exporter": "python",
   "pygments_lexer": "ipython3",
   "version": "3.7.2"
  }
 },
 "nbformat": 4,
 "nbformat_minor": 5
}
